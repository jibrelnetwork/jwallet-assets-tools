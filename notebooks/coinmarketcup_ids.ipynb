{
 "cells": [
  {
   "cell_type": "markdown",
   "metadata": {},
   "source": [
    "# Collect coinmarketcap ids and links (slug) using API\n",
    "\n",
    "https://jibrelnetwork.atlassian.net/browse/JWWEB-256\n",
    "https://jibrelnetwork.atlassian.net/browse/JWWEB-255"
   ]
  },
  {
   "cell_type": "code",
   "execution_count": null,
   "metadata": {},
   "outputs": [],
   "source": [
    "ASSETS_FILE = '../../jwallet-assets/mainnet/assets.json'"
   ]
  },
  {
   "cell_type": "markdown",
   "metadata": {},
   "source": [
    "Request mapping from api. There are ~1800 items available so, sooner or later, pagination will be required."
   ]
  },
  {
   "cell_type": "code",
   "execution_count": null,
   "metadata": {},
   "outputs": [],
   "source": [
    "import requests\n",
    "map_url = \"https://sandbox-api.coinmarketcap.com/v1/cryptocurrency/map\"\n",
    "key = 'ef850729-cae3-426a-99bd-3969f72d98dd'\n",
    "response = requests.get(map_url, params={\"limit\": 5000}, headers={\n",
    "    'X-CMC_PRO_API_KEY': key\n",
    "})"
   ]
  },
  {
   "cell_type": "code",
   "execution_count": null,
   "metadata": {},
   "outputs": [],
   "source": [
    "data = response.json()"
   ]
  },
  {
   "cell_type": "code",
   "execution_count": null,
   "metadata": {},
   "outputs": [],
   "source": [
    "import json\n",
    "with open(ASSETS_FILE) as fp:\n",
    "    assets = json.load(fp)"
   ]
  },
  {
   "cell_type": "code",
   "execution_count": null,
   "metadata": {},
   "outputs": [],
   "source": [
    "assets_symbols = set([a['symbol'] for a in assets])"
   ]
  },
  {
   "cell_type": "code",
   "execution_count": null,
   "metadata": {},
   "outputs": [],
   "source": [
    "matches = [d for d in data['data'] if d['symbol'] in assets_symbols]"
   ]
  },
  {
   "cell_type": "code",
   "execution_count": null,
   "metadata": {},
   "outputs": [],
   "source": [
    "for item in assets:\n",
    "    for matched in matches:\n",
    "        if item['symbol'] == matched['symbol']:\n",
    "            if 'priceFeed' not in item:\n",
    "                item['priceFeed'] = {}\n",
    "            # JWWEB-255: Collect coinmarketcap IDs\n",
    "            item['priceFeed']['currencyID'] = matched['id']\n",
    "            item['priceFeed']['currencyIDType'] = \"coinmarketcap\"\n",
    "            # JWWEB-256\n",
    "            currency_url = \"https://coinmarketcap.com/currencies/%s\" % matched['slug']\n",
    "            url_type = 'coinmarketcap'\n",
    "            if 'assetPage' not in item:\n",
    "                item['assetPage'] = {'urls': []}\n",
    "            for url in item['assetPage'].get('urls', []):\n",
    "                if url['type'] == url_type:\n",
    "                    url['url'] = currency_url\n",
    "                    break\n",
    "            else:\n",
    "                item['assetPage']['urls'].append({'type': url_type, 'url': currency_url})"
   ]
  },
  {
   "cell_type": "code",
   "execution_count": null,
   "metadata": {},
   "outputs": [],
   "source": [
    "with open(ASSETS_FILE, 'w') as fp:\n",
    "    json.dump(assets, fp, indent=2, ensure_ascii=False)"
   ]
  }
 ],
 "metadata": {
  "kernelspec": {
   "display_name": "Python 3",
   "language": "python",
   "name": "python3"
  },
  "language_info": {
   "codemirror_mode": {
    "name": "ipython",
    "version": 3
   },
   "file_extension": ".py",
   "mimetype": "text/x-python",
   "name": "python",
   "nbconvert_exporter": "python",
   "pygments_lexer": "ipython3",
   "version": "3.7.0"
  }
 },
 "nbformat": 4,
 "nbformat_minor": 2
}
